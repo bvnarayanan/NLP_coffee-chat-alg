{
 "cells": [
  {
   "cell_type": "code",
   "execution_count": 13,
   "metadata": {},
   "outputs": [],
   "source": [
    "import pandas as pd\n",
    "import numpy as np\n",
    "from sentence_transformers import SentenceTransformer\n",
    "from sklearn.metrics.pairwise import cosine_similarity\n",
    "import json\n",
    "import os\n",
    "from glob import glob\n",
    "from datetime import date\n"
   ]
  },
  {
   "cell_type": "code",
   "execution_count": 14,
   "metadata": {},
   "outputs": [],
   "source": [
    "model = SentenceTransformer(\"/Users/k33988/Downloads/all-MiniLM-L6-v2\")"
   ]
  },
  {
   "cell_type": "code",
   "execution_count": 15,
   "metadata": {},
   "outputs": [],
   "source": [
    "\n",
    "def load_excel_file(file):\n",
    "    return pd.read_excel(file)\n",
    "\n",
    "def load_previous_matches(csv_files_path):\n",
    "    all_files = glob(os.path.join(csv_files_path, \"*.csv\"))\n",
    "    filtered_files = [f for f in all_files if not os.path.basename(f).startswith(\"deduplicated\")]\n",
    "\n",
    "    data_frames = pd.concat((pd.read_csv(f) for f in filtered_files))\n",
    "    \n",
    "    return data_frames\n",
    "    \n",
    "def load_matches(csv_files_path):\n",
    "\n",
    "    \"\"\"\n",
    "    Loads and processes match data from output CSV file currently from 2023\n",
    "    \n",
    "    Args: \n",
    "        csv_file_path(str): The path to the directory containing the CSV files. \n",
    "    \n",
    "    Returns: \n",
    "        dict: A dictionary where the key are email addresses \n",
    "        and the values are sets of email addresses that the key has been matched with\n",
    "    \"\"\"\n",
    "    matches_df = load_previous_matches(csv_files_path)\n",
    "    \n",
    "    \n",
    "    #Initiates and Iterates through the rows of the combined DataFrame\n",
    "    previous_matches = {}\n",
    "    for index, row in matches_df.iterrows():\n",
    "        person = row['Email Address']\n",
    "        matched_with = row['Matched Email Address']\n",
    "\n",
    "        if person not in previous_matches: \n",
    "            previous_matches[person] = set()\n",
    "        if matched_with not in previous_matches:\n",
    "            previous_matches[matched_with] = set()\n",
    "\n",
    "        previous_matches[person].add(matched_with)\n",
    "        previous_matches[matched_with].add(person)\n",
    "        \n",
    "    #converts emails to all lowercase to be detected as the same email (there were some that were capitalized)\n",
    "    previous_matches = {key.lower():{email.lower() for email in value} for key, value in previous_matches.items()}\n",
    "    return previous_matches\n",
    "\n",
    "\n",
    "\n",
    "def generate_pool(data,freq_column,start_date):\n",
    "    today = date.today()\n",
    "    #number of months passed\n",
    "    curr_round_num = (today.year - start_date.year)* 12 + (today.month - start_date.month)\n",
    "    mapping = {'Monthly':1,'Bi-monthly':2,'Quarterly':3}\n",
    "\n",
    "    data_pool = data.copy()\n",
    "    data_pool[freq_column + '_std'] = data_pool[freq_column].map(mapping)\n",
    "    #includes or excludes people\n",
    "    data_pool['pool_fl'] = data_pool[freq_column + '_std'].apply(lambda x: 1 if curr_round_num % x ==0 else 0)\n",
    "    data_pool = data_pool[data_pool['pool_fl'] == 1]\n",
    "\n",
    "    return data_pool\n",
    "\n",
    "def get_embedding(text):\n",
    "    return model.encode(text)"
   ]
  },
  {
   "cell_type": "code",
   "execution_count": 16,
   "metadata": {},
   "outputs": [],
   "source": [
    "\n",
    "input_file = './input/2024-07-01-profiles.xlsx'\n",
    "previous_pairs_file = './output'\n",
    "#managers_file = '/Users/k33988/Documents/summer-coffee-hour/exclude-managers/manager-email.xlsx'\n",
    "\n",
    "data = load_excel_file(input_file)\n",
    "#managers = load_excel_file(managers_file)\n",
    "previous_matches = load_matches(previous_pairs_file)\n",
    "\n",
    "\n",
    "\n",
    "attribute = ['Professional Interests', 'Hobbies', 'Topics you would like to learn more about']\n",
    "start_date = date(2024, 7, 1)\n",
    "\n",
    "\n",
    "data_pool = generate_pool(data, 'Match Frequency', start_date)"
   ]
  },
  {
   "cell_type": "code",
   "execution_count": 17,
   "metadata": {},
   "outputs": [],
   "source": [
    "PI = data_pool['Professional Interests'].to_list()\n",
    "PI_Embeddings = get_embedding(PI)\n",
    "PI_Similarity = cosine_similarity(PI_Embeddings)\n",
    "\n"
   ]
  },
  {
   "cell_type": "code",
   "execution_count": 18,
   "metadata": {},
   "outputs": [],
   "source": [
    "H = data_pool['Hobbies'].to_list()\n",
    "Hobbies_Embed = get_embedding(H)\n",
    "Hobbies_Sim = cosine_similarity(Hobbies_Embed)"
   ]
  },
  {
   "cell_type": "code",
   "execution_count": 19,
   "metadata": {},
   "outputs": [],
   "source": [
    "Topics = data_pool['Topics you would like to learn more about'].to_list()\n",
    "Topics_Embed = get_embedding(Topics)\n",
    "Topics_Sim = cosine_similarity(Topics_Embed)"
   ]
  },
  {
   "cell_type": "code",
   "execution_count": 20,
   "metadata": {},
   "outputs": [
    {
     "data": {
      "text/plain": [
       "array([[1.0000004 , 0.50442284, 0.4820521 , ..., 0.4904822 , 0.6038989 ,\n",
       "        0.7264508 ],\n",
       "       [0.50442284, 1.0000004 , 0.33953324, ..., 0.44313973, 0.58423495,\n",
       "        0.45557576],\n",
       "       [0.4820521 , 0.33953324, 1.0000002 , ..., 0.37820992, 0.4147362 ,\n",
       "        0.6447514 ],\n",
       "       ...,\n",
       "       [0.4904822 , 0.44313973, 0.37820992, ..., 1.0000001 , 0.3958416 ,\n",
       "        0.38216138],\n",
       "       [0.6038989 , 0.58423495, 0.4147362 , ..., 0.3958416 , 1.0000002 ,\n",
       "        0.51787233],\n",
       "       [0.7264508 , 0.45557576, 0.6447514 , ..., 0.38216138, 0.51787233,\n",
       "        1.0000001 ]], dtype=float32)"
      ]
     },
     "execution_count": 20,
     "metadata": {},
     "output_type": "execute_result"
    }
   ],
   "source": [
    "np.asanyarray([PI_Similarity, Hobbies_Sim, Topics_Sim]).max(axis=0)"
   ]
  },
  {
   "cell_type": "code",
   "execution_count": 62,
   "metadata": {},
   "outputs": [
    {
     "name": "stdout",
     "output_type": "stream",
     "text": [
      "[array([[1.0000004 , 0.44062972, 0.14472461, ..., 0.4904822 , 0.5437184 ,\n",
      "        0.22060227],\n",
      "       [0.44062972, 1.0000004 , 0.23613757, ..., 0.44313973, 0.48146343,\n",
      "        0.23805241],\n",
      "       [0.14472461, 0.23613757, 1.0000001 , ..., 0.24837118, 0.22481975,\n",
      "        0.15653038],\n",
      "       ...,\n",
      "       [0.4904822 , 0.44313973, 0.24837118, ..., 0.99999976, 0.2673173 ,\n",
      "        0.08114752],\n",
      "       [0.5437184 , 0.48146343, 0.22481975, ..., 0.2673173 , 1.0000002 ,\n",
      "        0.28564093],\n",
      "       [0.22060227, 0.23805241, 0.15653038, ..., 0.08114752, 0.28564093,\n",
      "        1.0000001 ]], dtype=float32), array([[1.        , 0.50442284, 0.4820521 , ..., 0.4257974 , 0.6038989 ,\n",
      "        0.7264508 ],\n",
      "       [0.50442284, 1.0000001 , 0.33953324, ..., 0.29081073, 0.58423495,\n",
      "        0.45557576],\n",
      "       [0.4820521 , 0.33953324, 1.        , ..., 0.37820992, 0.320565  ,\n",
      "        0.6447514 ],\n",
      "       ...,\n",
      "       [0.4257974 , 0.29081073, 0.37820992, ..., 1.        , 0.3958416 ,\n",
      "        0.38216138],\n",
      "       [0.6038989 , 0.58423495, 0.320565  , ..., 0.3958416 , 1.        ,\n",
      "        0.51787233],\n",
      "       [0.7264508 , 0.45557576, 0.6447514 , ..., 0.38216138, 0.51787233,\n",
      "        0.99999976]], dtype=float32), array([[ 1.        , -0.01317458, -0.04570483, ...,  0.1975624 ,\n",
      "         0.04100224, -0.02306647],\n",
      "       [-0.01317458,  1.        ,  0.29508948, ...,  0.23666167,\n",
      "         0.32154578,  0.07332239],\n",
      "       [-0.04570483,  0.29508948,  1.0000002 , ...,  0.17522916,\n",
      "         0.4147362 ,  0.18253326],\n",
      "       ...,\n",
      "       [ 0.1975624 ,  0.23666167,  0.17522916, ...,  1.0000001 ,\n",
      "         0.15707816,  0.04243073],\n",
      "       [ 0.04100224,  0.32154578,  0.4147362 , ...,  0.15707816,\n",
      "         1.0000001 ,  0.10934538],\n",
      "       [-0.02306647,  0.07332239,  0.18253326, ...,  0.04243073,\n",
      "         0.10934538,  1.        ]], dtype=float32)]\n",
      "{}\n"
     ]
    }
   ],
   "source": [
    "#calculate sim matrix function\n",
    "similarities = {}\n",
    "sim_matrix = []\n",
    "for x in attribute:\n",
    "    texts = data_pool[x].to_list()\n",
    "    embeddings = get_embedding(texts)\n",
    "    similarity_matrix = cosine_similarity(embeddings)\n",
    "    sim_matrix.append(similarity_matrix)\n",
    "    \n",
    "sim_matrix_3d= np.stack(sim_matrix, axis = 0)\n",
    "\n",
    "for i in range(sim_matrix_3d.shape[0]):\n",
    "    np.fill_diagonal(sim_matrix_3d[i], 0)\n",
    "    \n",
    "\n",
    "    #return similarities\n",
    "    #calculate_similarity(data_pool, attributes)\n",
    "print(sim_matrix)\n",
    "print(similarities)"
   ]
  },
  {
   "cell_type": "code",
   "execution_count": 64,
   "metadata": {},
   "outputs": [
    {
     "ename": "TypeError",
     "evalue": "list indices must be integers or slices, not str",
     "output_type": "error",
     "traceback": [
      "\u001b[0;31m---------------------------------------------------------------------------\u001b[0m",
      "\u001b[0;31mTypeError\u001b[0m                                 Traceback (most recent call last)",
      "Cell \u001b[0;32mIn[64], line 10\u001b[0m\n\u001b[1;32m      8\u001b[0m already_matched \u001b[38;5;241m=\u001b[39m \u001b[38;5;28mset\u001b[39m(all_people[\u001b[38;5;124m'\u001b[39m\u001b[38;5;124mEmail Address\u001b[39m\u001b[38;5;124m'\u001b[39m])\n\u001b[1;32m      9\u001b[0m employee \u001b[38;5;241m=\u001b[39m all_people[\u001b[38;5;124m'\u001b[39m\u001b[38;5;124mEmail Address\u001b[39m\u001b[38;5;124m'\u001b[39m]\u001b[38;5;241m.\u001b[39mto_list()\n\u001b[0;32m---> 10\u001b[0m employee_email \u001b[38;5;241m=\u001b[39m \u001b[43memployee\u001b[49m\u001b[43m[\u001b[49m\u001b[38;5;124;43m'\u001b[39;49m\u001b[38;5;124;43mEmail Address\u001b[39;49m\u001b[38;5;124;43m'\u001b[39;49m\u001b[43m]\u001b[49m\u001b[38;5;241m.\u001b[39mlower()\n\u001b[1;32m     11\u001b[0m previous_matched_people \u001b[38;5;241m=\u001b[39m previous_matches[employee[\u001b[38;5;124m'\u001b[39m\u001b[38;5;124mEmail Address\u001b[39m\u001b[38;5;124m'\u001b[39m]\u001b[38;5;241m.\u001b[39mlower() ]\n\u001b[1;32m     12\u001b[0m unmatched_people \u001b[38;5;241m=\u001b[39m already_matched \u001b[38;5;241m-\u001b[39m previous_matched_people\n",
      "\u001b[0;31mTypeError\u001b[0m: list indices must be integers or slices, not str"
     ]
    }
   ],
   "source": [
    "#calculate sim function with sim_matrix as input along with employees, attribute data_pool\n",
    "\n",
    "all_people = data_pool.copy()\n",
    "all_people = all_people.fillna('')\n",
    "all_people = all_people[all_people['Active Flag'].str.lower() == 'active']\n",
    "\n",
    "pairs = []\n",
    "already_matched = set(all_people['Email Address'])\n",
    "employee = all_people['Email Address'].to_list()\n",
    "employee_email = employee['Email Address'].lower()\n",
    "previous_matched_people = previous_matches[employee['Email Address'].lower() ]\n",
    "unmatched_people = already_matched - previous_matched_people\n",
    "unmatched_people = all_people[all_people['Email Address'].isin(unmatched_people)]\n",
    "\n",
    "\n",
    "    #matched_text[x]\n",
    "\n",
    "# aggregate_similarity = np.asanyarray(list(similarities.values())).max(axis=0)\n",
    "# similarities['Aggregate'] = aggregate_similarity\n",
    "\n",
    "#best_match stays the same?"
   ]
  },
  {
   "cell_type": "code",
   "execution_count": 63,
   "metadata": {},
   "outputs": [
    {
     "name": "stdout",
     "output_type": "stream",
     "text": [
      "brent.kostkowski@finra.org\n",
      "shawn.murray@finra.org\n"
     ]
    }
   ],
   "source": [
    "#Index of first employee to find match for\n",
    "employee_idx = all_people.index[all_people['Email Address'].str.lower() == employee[0]]\n",
    "\n",
    "#Extract the row from sim_matrix corresponding to this employee\n",
    "employee_similarities = sim_matrix_3d[:,employee_idx, :]\n",
    "aggregate_similarity = np.sum(employee_similarities, axis=0)\n",
    "\n",
    "#index with highest score\n",
    "best_candidate_idx = np.argmax(aggregate_similarity)\n",
    "best_candidate_email = all_people.iloc[best_candidate_idx]['Email Address']\n",
    "\n",
    "\n",
    "\n",
    "print(employee_email)\n",
    "print(best_candidate_email)\n"
   ]
  },
  {
   "cell_type": "code",
   "execution_count": 27,
   "metadata": {},
   "outputs": [
    {
     "name": "stdout",
     "output_type": "stream",
     "text": [
      "70\n"
     ]
    }
   ],
   "source": [
    "print(idx2)"
   ]
  },
  {
   "cell_type": "code",
   "execution_count": null,
   "metadata": {},
   "outputs": [],
   "source": []
  }
 ],
 "metadata": {
  "kernelspec": {
   "display_name": ".venv",
   "language": "python",
   "name": "python3"
  },
  "language_info": {
   "codemirror_mode": {
    "name": "ipython",
    "version": 3
   },
   "file_extension": ".py",
   "mimetype": "text/x-python",
   "name": "python",
   "nbconvert_exporter": "python",
   "pygments_lexer": "ipython3",
   "version": "3.9.6"
  }
 },
 "nbformat": 4,
 "nbformat_minor": 2
}
